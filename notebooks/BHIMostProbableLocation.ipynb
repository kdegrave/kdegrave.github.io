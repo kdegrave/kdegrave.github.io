{
 "cells": [
  {
   "cell_type": "markdown",
   "metadata": {
    "application/vnd.databricks.v1+cell": {
     "inputWidgets": {},
     "nuid": "2b898be0-a7c9-4d95-bc4c-d303b398c391",
     "showTitle": false,
     "title": ""
    }
   },
   "source": [
    "# Enrich BHI facility information"
   ]
  },
  {
   "cell_type": "code",
   "execution_count": null,
   "metadata": {
    "application/vnd.databricks.v1+cell": {
     "inputWidgets": {},
     "nuid": "7d3b3373-47ab-460f-96ea-a6952ccd0a7b",
     "showTitle": false,
     "title": ""
    }
   },
   "outputs": [
    {
     "data": {
      "text/html": [
       "<style scoped>\n",
       "  .ansiout {\n",
       "    display: block;\n",
       "    unicode-bidi: embed;\n",
       "    white-space: pre-wrap;\n",
       "    word-wrap: break-word;\n",
       "    word-break: break-all;\n",
       "    font-family: \"Source Code Pro\", \"Menlo\", monospace;;\n",
       "    font-size: 13px;\n",
       "    color: #555;\n",
       "    margin-left: 4px;\n",
       "    line-height: 19px;\n",
       "  }\n",
       "</style>\n",
       "<div class=\"ansiout\"></div>"
      ]
     },
     "metadata": {
      "application/vnd.databricks.v1+output": {
       "addedWidgets": {},
       "arguments": {},
       "data": "<div class=\"ansiout\"></div>",
       "datasetInfos": [],
       "metadata": {},
       "removedWidgets": [],
       "type": "html"
      }
     },
     "output_type": "display_data"
    }
   ],
   "source": [
    "from pyspark.sql.functions import col, lit, rank, desc, sum, when, lower, concat, split, countDistinct\n",
    "from pyspark.sql.types import FloatType\n",
    "from pyspark.sql.window import Window"
   ]
  },
  {
   "cell_type": "code",
   "execution_count": null,
   "metadata": {
    "application/vnd.databricks.v1+cell": {
     "inputWidgets": {},
     "nuid": "508ef81f-476e-42a8-94cb-53bb07e0bda6",
     "showTitle": false,
     "title": ""
    }
   },
   "outputs": [
    {
     "data": {
      "text/html": [
       "<style scoped>\n",
       "  .ansiout {\n",
       "    display: block;\n",
       "    unicode-bidi: embed;\n",
       "    white-space: pre-wrap;\n",
       "    word-wrap: break-word;\n",
       "    word-break: break-all;\n",
       "    font-family: \"Source Code Pro\", \"Menlo\", monospace;;\n",
       "    font-size: 13px;\n",
       "    color: #555;\n",
       "    margin-left: 4px;\n",
       "    line-height: 19px;\n",
       "  }\n",
       "</style>\n",
       "<div class=\"ansiout\"></div>"
      ]
     },
     "metadata": {
      "application/vnd.databricks.v1+output": {
       "addedWidgets": {},
       "arguments": {},
       "data": "<div class=\"ansiout\"></div>",
       "datasetInfos": [],
       "metadata": {},
       "removedWidgets": [],
       "type": "html"
      }
     },
     "output_type": "display_data"
    }
   ],
   "source": [
    "%run ./Environment"
   ]
  },
  {
   "cell_type": "code",
   "execution_count": null,
   "metadata": {
    "application/vnd.databricks.v1+cell": {
     "inputWidgets": {},
     "nuid": "97716a66-33af-40e8-b354-fb9ddfd54e35",
     "showTitle": false,
     "title": ""
    }
   },
   "outputs": [
    {
     "data": {
      "text/html": [
       "<style scoped>\n",
       "  .ansiout {\n",
       "    display: block;\n",
       "    unicode-bidi: embed;\n",
       "    white-space: pre-wrap;\n",
       "    word-wrap: break-word;\n",
       "    word-break: break-all;\n",
       "    font-family: \"Source Code Pro\", \"Menlo\", monospace;;\n",
       "    font-size: 13px;\n",
       "    color: #555;\n",
       "    margin-left: 4px;\n",
       "    line-height: 19px;\n",
       "  }\n",
       "</style>\n",
       "<div class=\"ansiout\"></div>"
      ]
     },
     "metadata": {
      "application/vnd.databricks.v1+output": {
       "addedWidgets": {},
       "arguments": {},
       "data": "<div class=\"ansiout\"></div>",
       "datasetInfos": [],
       "metadata": {},
       "removedWidgets": [],
       "type": "html"
      }
     },
     "output_type": "display_data"
    },
    {
     "data": {
      "text/html": [
       "<style scoped>\n",
       "  .ansiout {\n",
       "    display: block;\n",
       "    unicode-bidi: embed;\n",
       "    white-space: pre-wrap;\n",
       "    word-wrap: break-word;\n",
       "    word-break: break-all;\n",
       "    font-family: \"Source Code Pro\", \"Menlo\", monospace;;\n",
       "    font-size: 13px;\n",
       "    color: #555;\n",
       "    margin-left: 4px;\n",
       "    line-height: 19px;\n",
       "  }\n",
       "</style>\n",
       "<div class=\"ansiout\"></div>"
      ]
     },
     "metadata": {
      "application/vnd.databricks.v1+output": {
       "addedWidgets": {},
       "arguments": {},
       "data": "<div class=\"ansiout\"></div>",
       "datasetInfos": [],
       "metadata": {},
       "removedWidgets": [],
       "type": "html"
      }
     },
     "output_type": "display_data"
    }
   ],
   "source": [
    "# Read in the claimline table and the mapping tables\n",
    "\n",
    "claimline = spark.read.table(claimline_table)\n",
    "\n",
    "ccs_location = spark.read.table(ccs_location_mapping)\n",
    "\n",
    "procedure_location = spark.read.table(procedure_location_mapping)"
   ]
  },
  {
   "cell_type": "code",
   "execution_count": null,
   "metadata": {
    "application/vnd.databricks.v1+cell": {
     "inputWidgets": {},
     "nuid": "718e8eca-9aa0-43b9-a44e-a5de86dbd9af",
     "showTitle": false,
     "title": ""
    }
   },
   "outputs": [
    {
     "data": {
      "text/html": [
       "<style scoped>\n",
       "  .ansiout {\n",
       "    display: block;\n",
       "    unicode-bidi: embed;\n",
       "    white-space: pre-wrap;\n",
       "    word-wrap: break-word;\n",
       "    word-break: break-all;\n",
       "    font-family: \"Source Code Pro\", \"Menlo\", monospace;;\n",
       "    font-size: 13px;\n",
       "    color: #555;\n",
       "    margin-left: 4px;\n",
       "    line-height: 19px;\n",
       "  }\n",
       "</style>\n",
       "<div class=\"ansiout\"></div>"
      ]
     },
     "metadata": {
      "application/vnd.databricks.v1+output": {
       "addedWidgets": {},
       "arguments": {},
       "data": "<div class=\"ansiout\"></div>",
       "datasetInfos": [],
       "metadata": {},
       "removedWidgets": [],
       "type": "html"
      }
     },
     "output_type": "display_data"
    }
   ],
   "source": [
    "claimline_columns = claimline.columns"
   ]
  },
  {
   "cell_type": "code",
   "execution_count": null,
   "metadata": {
    "application/vnd.databricks.v1+cell": {
     "inputWidgets": {},
     "nuid": "7393f397-7cb1-4d64-b809-50b2d32f969b",
     "showTitle": false,
     "title": ""
    }
   },
   "outputs": [
    {
     "data": {
      "text/html": [
       "<style scoped>\n",
       "  .ansiout {\n",
       "    display: block;\n",
       "    unicode-bidi: embed;\n",
       "    white-space: pre-wrap;\n",
       "    word-wrap: break-word;\n",
       "    word-break: break-all;\n",
       "    font-family: \"Source Code Pro\", \"Menlo\", monospace;;\n",
       "    font-size: 13px;\n",
       "    color: #555;\n",
       "    margin-left: 4px;\n",
       "    line-height: 19px;\n",
       "  }\n",
       "</style>\n",
       "<div class=\"ansiout\"></div>"
      ]
     },
     "metadata": {
      "application/vnd.databricks.v1+output": {
       "addedWidgets": {},
       "arguments": {},
       "data": "<div class=\"ansiout\"></div>",
       "datasetInfos": [],
       "metadata": {},
       "removedWidgets": [],
       "type": "html"
      }
     },
     "output_type": "display_data"
    }
   ],
   "source": [
    "# Read in the ccs table so that we can map claimline procedure_code to ccs code\n",
    "\n",
    "ccs_codes = spark.read.table(ccs_code_table) \\\n",
    "                 .select(\"event_code\", \"ccs_category_code\").distinct() \\\n",
    "                 .filter((col(\"event_type\") == \"PROCEDURE\") & \\\n",
    "                         (col(\"event_code\").isNotNull()) & \\\n",
    "                         (col(\"ccs_category_code\").isNotNull()))\n",
    "\n",
    "ccs_codes = ccs_codes.withColumn(\"ccs_category_code\", split(\"ccs_category_code\", \"-\")[0])"
   ]
  },
  {
   "cell_type": "code",
   "execution_count": null,
   "metadata": {
    "application/vnd.databricks.v1+cell": {
     "inputWidgets": {},
     "nuid": "660c02d6-43e1-4bab-9f2f-26b6deaaaa88",
     "showTitle": false,
     "title": ""
    }
   },
   "outputs": [
    {
     "data": {
      "text/html": [
       "<style scoped>\n",
       "  .ansiout {\n",
       "    display: block;\n",
       "    unicode-bidi: embed;\n",
       "    white-space: pre-wrap;\n",
       "    word-wrap: break-word;\n",
       "    word-break: break-all;\n",
       "    font-family: \"Source Code Pro\", \"Menlo\", monospace;;\n",
       "    font-size: 13px;\n",
       "    color: #555;\n",
       "    margin-left: 4px;\n",
       "    line-height: 19px;\n",
       "  }\n",
       "</style>\n",
       "<div class=\"ansiout\"></div>"
      ]
     },
     "metadata": {
      "application/vnd.databricks.v1+output": {
       "addedWidgets": {},
       "arguments": {},
       "data": "<div class=\"ansiout\"></div>",
       "datasetInfos": [],
       "metadata": {},
       "removedWidgets": [],
       "type": "html"
      }
     },
     "output_type": "display_data"
    }
   ],
   "source": [
    "# Select the most probable location for a given provider and procedure code (or css code)\n",
    "\n",
    "ccs_location = ccs_location.filter(col(\"encounter_probability_rank\") == 1) \\\n",
    "                                           .orderBy(col(\"location_encounter_rank\").asc()) \\\n",
    "                                           .drop_duplicates([\"provider_npi\", \"ccs_category_code\"])\n",
    "\n",
    "procedure_location = procedure_location.filter(col(\"encounter_probability_rank\") == 1) \\\n",
    "                                                       .orderBy(col(\"location_encounter_rank\").asc()) \\\n",
    "                                                       .drop_duplicates([\"provider_npi\", \"procedure_code\"])"
   ]
  },
  {
   "cell_type": "code",
   "execution_count": null,
   "metadata": {
    "application/vnd.databricks.v1+cell": {
     "inputWidgets": {},
     "nuid": "91a99fea-1c55-4017-ba49-dff77a64c09e",
     "showTitle": false,
     "title": ""
    }
   },
   "outputs": [
    {
     "data": {
      "text/html": [
       "<style scoped>\n",
       "  .ansiout {\n",
       "    display: block;\n",
       "    unicode-bidi: embed;\n",
       "    white-space: pre-wrap;\n",
       "    word-wrap: break-word;\n",
       "    word-break: break-all;\n",
       "    font-family: \"Source Code Pro\", \"Menlo\", monospace;;\n",
       "    font-size: 13px;\n",
       "    color: #555;\n",
       "    margin-left: 4px;\n",
       "    line-height: 19px;\n",
       "  }\n",
       "</style>\n",
       "<div class=\"ansiout\"></div>"
      ]
     },
     "metadata": {
      "application/vnd.databricks.v1+output": {
       "addedWidgets": {},
       "arguments": {},
       "data": "<div class=\"ansiout\"></div>",
       "datasetInfos": [],
       "metadata": {},
       "removedWidgets": [],
       "type": "html"
      }
     },
     "output_type": "display_data"
    }
   ],
   "source": [
    "# Read in relevant fields from the the HGPD tables. Use only the primary npi2.\n",
    "\n",
    "provider_location = spark.read.table(hgpd_provider_location).select(\"provider_id\", \"provider_location_name\", \"provider_location_id\", \"location_id\", \"source\", \"primary\")\n",
    "\n",
    "location = spark.read.table(hgpd_location).select(\"city\", \"state\", \"zip\", \"addr_line_1\", \"addr_line_2\", \"latitude\", \"longitude\", \"location_id\", \"kli_location_key\")\n",
    "\n",
    "npi1_npi2 = spark.read.table(hgpd_npi1_npi2).select(\"npi1\", \"npi2\", \"rank\").filter(col(\"rank\") == 1)"
   ]
  },
  {
   "cell_type": "code",
   "execution_count": null,
   "metadata": {
    "application/vnd.databricks.v1+cell": {
     "inputWidgets": {},
     "nuid": "7f25d691-6938-4d24-8c44-4e101a58038c",
     "showTitle": false,
     "title": ""
    }
   },
   "outputs": [
    {
     "data": {
      "text/html": [
       "<style scoped>\n",
       "  .ansiout {\n",
       "    display: block;\n",
       "    unicode-bidi: embed;\n",
       "    white-space: pre-wrap;\n",
       "    word-wrap: break-word;\n",
       "    word-break: break-all;\n",
       "    font-family: \"Source Code Pro\", \"Menlo\", monospace;;\n",
       "    font-size: 13px;\n",
       "    color: #555;\n",
       "    margin-left: 4px;\n",
       "    line-height: 19px;\n",
       "  }\n",
       "</style>\n",
       "<div class=\"ansiout\"></div>"
      ]
     },
     "metadata": {
      "application/vnd.databricks.v1+output": {
       "addedWidgets": {},
       "arguments": {},
       "data": "<div class=\"ansiout\"></div>",
       "datasetInfos": [],
       "metadata": {},
       "removedWidgets": [],
       "type": "html"
      }
     },
     "output_type": "display_data"
    }
   ],
   "source": [
    "# Join the HGPD tables together\n",
    "\n",
    "hgpd = provider_location.join(location, \"location_id\", how=\"inner\").join(npi1_npi2, col(\"provider_id\") == col(\"npi1\"), how=\"inner\")"
   ]
  },
  {
   "cell_type": "code",
   "execution_count": null,
   "metadata": {
    "application/vnd.databricks.v1+cell": {
     "inputWidgets": {},
     "nuid": "62bb24a5-5279-44d1-b7e8-eeae29e445cf",
     "showTitle": false,
     "title": ""
    }
   },
   "outputs": [
    {
     "data": {
      "text/html": [
       "<style scoped>\n",
       "  .ansiout {\n",
       "    display: block;\n",
       "    unicode-bidi: embed;\n",
       "    white-space: pre-wrap;\n",
       "    word-wrap: break-word;\n",
       "    word-break: break-all;\n",
       "    font-family: \"Source Code Pro\", \"Menlo\", monospace;;\n",
       "    font-size: 13px;\n",
       "    color: #555;\n",
       "    margin-left: 4px;\n",
       "    line-height: 19px;\n",
       "  }\n",
       "</style>\n",
       "<div class=\"ansiout\"></div>"
      ]
     },
     "metadata": {
      "application/vnd.databricks.v1+output": {
       "addedWidgets": {},
       "arguments": {},
       "data": "<div class=\"ansiout\"></div>",
       "datasetInfos": [],
       "metadata": {},
       "removedWidgets": [],
       "type": "html"
      }
     },
     "output_type": "display_data"
    }
   ],
   "source": [
    "# Add tags to non-claimline column names so that we can drop them later\n",
    "\n",
    "ccs_location = ccs_location.select(*(col(i).alias(i + \"_\") for i in ccs_location.columns))\n",
    "\n",
    "procedure_location = procedure_location.select(*(col(i).alias(i + \"_\") for i in procedure_location.columns))\n",
    "\n",
    "ccs_codes = ccs_codes.select(*(col(i).alias(i + \"_\") for i in ccs_codes.columns))\n",
    "\n",
    "hgpd = hgpd.select(*(col(i).alias(i + \"_\") for i in hgpd.columns))"
   ]
  },
  {
   "cell_type": "code",
   "execution_count": null,
   "metadata": {
    "application/vnd.databricks.v1+cell": {
     "inputWidgets": {},
     "nuid": "25a006a0-5c1a-48eb-99e1-12a9d7e69bad",
     "showTitle": false,
     "title": ""
    }
   },
   "outputs": [
    {
     "data": {
      "text/html": [
       "<style scoped>\n",
       "  .ansiout {\n",
       "    display: block;\n",
       "    unicode-bidi: embed;\n",
       "    white-space: pre-wrap;\n",
       "    word-wrap: break-word;\n",
       "    word-break: break-all;\n",
       "    font-family: \"Source Code Pro\", \"Menlo\", monospace;;\n",
       "    font-size: 13px;\n",
       "    color: #555;\n",
       "    margin-left: 4px;\n",
       "    line-height: 19px;\n",
       "  }\n",
       "</style>\n",
       "<div class=\"ansiout\"></div>"
      ]
     },
     "metadata": {
      "application/vnd.databricks.v1+output": {
       "addedWidgets": {},
       "arguments": {},
       "data": "<div class=\"ansiout\"></div>",
       "datasetInfos": [],
       "metadata": {},
       "removedWidgets": [],
       "type": "html"
      }
     },
     "output_type": "display_data"
    }
   ],
   "source": [
    "# Null out the facility_* columns in claimline and we'll fill them in below\n",
    "\n",
    "columns = [\"facility_addresskey\",\n",
    "           \"facility_addresssource\",\n",
    "           \"facility_city\",\n",
    "           \"facility_latitude\",\n",
    "           \"facility_longitude\",\n",
    "           \"facility_name\",\n",
    "           \"facility_npi\",\n",
    "           \"facility_primarytaxonomy\",\n",
    "           \"facility_state\",\n",
    "           \"facility_street\",\n",
    "           \"facility_suite\",\n",
    "           \"facility_zipcode\",\n",
    "           \"bill_type_facility\",\n",
    "           \"facility_cbsaname\",\n",
    "           \"facility_id\",\n",
    "           \"facility_marketname\",\n",
    "           \"facility_primarytaxonomydescription\",\n",
    "           \"facility_primarytaxonomygroup\",\n",
    "           \"facility_region\",\n",
    "           \"facility_standardizationmethod\",\n",
    "           \"facility_type\",\n",
    "           \"nonstandardized_facilityaddresskey\"]\n",
    "\n",
    "for i in columns:\n",
    "  claimline = claimline.withColumn(i, lit(None).cast(FloatType()))"
   ]
  },
  {
   "cell_type": "markdown",
   "metadata": {
    "application/vnd.databricks.v1+cell": {
     "inputWidgets": {},
     "nuid": "a9dcffc7-031a-4927-8953-f8e10a03ff40",
     "showTitle": false,
     "title": ""
    }
   },
   "source": [
    "#####Fill in BHI information using the ccs mapping table"
   ]
  },
  {
   "cell_type": "code",
   "execution_count": null,
   "metadata": {
    "application/vnd.databricks.v1+cell": {
     "inputWidgets": {},
     "nuid": "f28e92f5-c49c-4da9-b2e6-d89ed5d88319",
     "showTitle": false,
     "title": ""
    }
   },
   "outputs": [
    {
     "data": {
      "text/html": [
       "<style scoped>\n",
       "  .ansiout {\n",
       "    display: block;\n",
       "    unicode-bidi: embed;\n",
       "    white-space: pre-wrap;\n",
       "    word-wrap: break-word;\n",
       "    word-break: break-all;\n",
       "    font-family: \"Source Code Pro\", \"Menlo\", monospace;;\n",
       "    font-size: 13px;\n",
       "    color: #555;\n",
       "    margin-left: 4px;\n",
       "    line-height: 19px;\n",
       "  }\n",
       "</style>\n",
       "<div class=\"ansiout\"></div>"
      ]
     },
     "metadata": {
      "application/vnd.databricks.v1+output": {
       "addedWidgets": {},
       "arguments": {},
       "data": "<div class=\"ansiout\"></div>",
       "datasetInfos": [],
       "metadata": {},
       "removedWidgets": [],
       "type": "html"
      }
     },
     "output_type": "display_data"
    }
   ],
   "source": [
    "# Join the ccs table to claimline to get the procedure_code to ccs mapping\n",
    "\n",
    "claimline = claimline.join(ccs_codes, col(\"procedure_code\") == col(\"event_code_\"), how=\"left\")"
   ]
  },
  {
   "cell_type": "code",
   "execution_count": null,
   "metadata": {
    "application/vnd.databricks.v1+cell": {
     "inputWidgets": {},
     "nuid": "b3581894-1238-4f71-b310-e38c5897dffe",
     "showTitle": false,
     "title": ""
    }
   },
   "outputs": [
    {
     "data": {
      "text/html": [
       "<style scoped>\n",
       "  .ansiout {\n",
       "    display: block;\n",
       "    unicode-bidi: embed;\n",
       "    white-space: pre-wrap;\n",
       "    word-wrap: break-word;\n",
       "    word-break: break-all;\n",
       "    font-family: \"Source Code Pro\", \"Menlo\", monospace;;\n",
       "    font-size: 13px;\n",
       "    color: #555;\n",
       "    margin-left: 4px;\n",
       "    line-height: 19px;\n",
       "  }\n",
       "</style>\n",
       "<div class=\"ansiout\"></div>"
      ]
     },
     "metadata": {
      "application/vnd.databricks.v1+output": {
       "addedWidgets": {},
       "arguments": {},
       "data": "<div class=\"ansiout\"></div>",
       "datasetInfos": [],
       "metadata": {},
       "removedWidgets": [],
       "type": "html"
      }
     },
     "output_type": "display_data"
    }
   ],
   "source": [
    "# Join the ccs mapping table to claimline on rendering provider npi and ccs code, then join to hgpd on provider npi and provider location id\n",
    "\n",
    "dm = claimline.join(ccs_location, [claimline.RENDERING_PROVIDER_NPI == ccs_location.provider_npi_,\n",
    "                                                 claimline.ccs_category_code_ == ccs_location.ccs_category_code_], how=\"left\")\n",
    "\n",
    "dm = dm.join(hgpd, [dm.RENDERING_PROVIDER_NPI == hgpd.provider_id_, dm.provider_location_id_ == hgpd.provider_location_id_], how=\"left\")"
   ]
  },
  {
   "cell_type": "code",
   "execution_count": null,
   "metadata": {
    "application/vnd.databricks.v1+cell": {
     "inputWidgets": {},
     "nuid": "be2c29e2-202d-4598-b884-d1affe2dbdec",
     "showTitle": false,
     "title": ""
    }
   },
   "outputs": [
    {
     "data": {
      "text/html": [
       "<style scoped>\n",
       "  .ansiout {\n",
       "    display: block;\n",
       "    unicode-bidi: embed;\n",
       "    white-space: pre-wrap;\n",
       "    word-wrap: break-word;\n",
       "    word-break: break-all;\n",
       "    font-family: \"Source Code Pro\", \"Menlo\", monospace;;\n",
       "    font-size: 13px;\n",
       "    color: #555;\n",
       "    margin-left: 4px;\n",
       "    line-height: 19px;\n",
       "  }\n",
       "</style>\n",
       "<div class=\"ansiout\"></div>"
      ]
     },
     "metadata": {
      "application/vnd.databricks.v1+output": {
       "addedWidgets": {},
       "arguments": {},
       "data": "<div class=\"ansiout\"></div>",
       "datasetInfos": [],
       "metadata": {},
       "removedWidgets": [],
       "type": "html"
      }
     },
     "output_type": "display_data"
    }
   ],
   "source": [
    "# Fill in the BHI fields using the most probable HGPD provider location information\n",
    "\n",
    "dm = dm.withColumn(\"facility_npi\", when((dm.VENDORNAME == \"BHI\") & (hgpd.provider_location_id_.isNotNull()), hgpd.npi2_).otherwise(col(\"facility_npi\"))) \\\n",
    "       .withColumn(\"facility_city\", when((dm.VENDORNAME == \"BHI\") & (hgpd.provider_location_id_.isNotNull()), hgpd.city_).otherwise(col(\"facility_city\"))) \\\n",
    "       .withColumn(\"facility_state\", when((dm.VENDORNAME == \"BHI\") & (hgpd.provider_location_id_.isNotNull()), hgpd.state_).otherwise(col(\"facility_state\"))) \\\n",
    "       .withColumn(\"facility_suite\", when((dm.VENDORNAME == \"BHI\") & (hgpd.provider_location_id_.isNotNull()), hgpd.addr_line_2_).otherwise(col(\"facility_suite\"))) \\\n",
    "       .withColumn(\"facility_street\", when((dm.VENDORNAME == \"BHI\") & (hgpd.provider_location_id_.isNotNull()), hgpd.addr_line_1_).otherwise(col(\"facility_street\"))) \\\n",
    "       .withColumn(\"facility_zipcode\", when((dm.VENDORNAME == \"BHI\") & (hgpd.provider_location_id_.isNotNull()), hgpd.zip_).otherwise(col(\"facility_zipcode\"))) \\\n",
    "       .withColumn(\"facility_latitude\", when((dm.VENDORNAME == \"BHI\") & (hgpd.provider_location_id_.isNotNull()), hgpd.latitude_).otherwise(col(\"facility_latitude\"))) \\\n",
    "       .withColumn(\"facility_longitude\", when((dm.VENDORNAME == \"BHI\") & (hgpd.provider_location_id_.isNotNull()), hgpd.longitude_).otherwise(col(\"facility_longitude\"))) \\\n",
    "       .withColumn(\"facility_addresskey\", when((dm.VENDORNAME == \"BHI\") & (hgpd.provider_location_id_.isNotNull()), hgpd.kli_location_key_).otherwise(col(\"facility_addresskey\"))) \\\n",
    "       .withColumn(\"facility_name\", when((dm.VENDORNAME == \"BHI\") & (hgpd.provider_location_id_.isNotNull()), hgpd.provider_location_name_).otherwise(col(\"facility_name\"))) \\\n",
    "       .withColumn(\"facility_addresssource\", when(dm.VENDORNAME == \"BHI\", \"BHIFACILITYFIX\").otherwise(col(\"facility_addresssource\"))) \\\n",
    "       .drop(*ccs_codes.columns).drop(*ccs_location.columns).drop(*hgpd.columns)"
   ]
  },
  {
   "cell_type": "markdown",
   "metadata": {
    "application/vnd.databricks.v1+cell": {
     "inputWidgets": {},
     "nuid": "57f0f7ad-21df-4920-9d40-e0dbe7038207",
     "showTitle": false,
     "title": ""
    }
   },
   "source": [
    "#####Fill in BHI information using new procedure mapping table"
   ]
  },
  {
   "cell_type": "code",
   "execution_count": null,
   "metadata": {
    "application/vnd.databricks.v1+cell": {
     "inputWidgets": {},
     "nuid": "edec90c8-bf25-4b01-a011-4c50189e164b",
     "showTitle": false,
     "title": ""
    }
   },
   "outputs": [
    {
     "data": {
      "text/html": [
       "<style scoped>\n",
       "  .ansiout {\n",
       "    display: block;\n",
       "    unicode-bidi: embed;\n",
       "    white-space: pre-wrap;\n",
       "    word-wrap: break-word;\n",
       "    word-break: break-all;\n",
       "    font-family: \"Source Code Pro\", \"Menlo\", monospace;;\n",
       "    font-size: 13px;\n",
       "    color: #555;\n",
       "    margin-left: 4px;\n",
       "    line-height: 19px;\n",
       "  }\n",
       "</style>\n",
       "<div class=\"ansiout\"></div>"
      ]
     },
     "metadata": {
      "application/vnd.databricks.v1+output": {
       "addedWidgets": {},
       "arguments": {},
       "data": "<div class=\"ansiout\"></div>",
       "datasetInfos": [],
       "metadata": {},
       "removedWidgets": [],
       "type": "html"
      }
     },
     "output_type": "display_data"
    }
   ],
   "source": [
    "# Join the procedure mapping table to claimline on rendering provider npi and procedure code, then join to hgpd on provider npi and provider location id\n",
    "\n",
    "dm = claimline.join(procedure_location, [claimline.RENDERING_PROVIDER_NPI == procedure_location.provider_npi_,\n",
    "                                                       claimline.PROCEDURE_CODE == procedure_location.procedure_code_], how=\"left\")\n",
    "\n",
    "dm = dm.join(hgpd, [dm.RENDERING_PROVIDER_NPI == hgpd.provider_id_, dm.provider_location_id_ == hgpd.provider_location_id_], how=\"left\")"
   ]
  },
  {
   "cell_type": "code",
   "execution_count": null,
   "metadata": {
    "application/vnd.databricks.v1+cell": {
     "inputWidgets": {},
     "nuid": "0a8b8216-057a-4684-97bc-dac964e3c484",
     "showTitle": false,
     "title": ""
    }
   },
   "outputs": [
    {
     "data": {
      "text/html": [
       "<style scoped>\n",
       "  .ansiout {\n",
       "    display: block;\n",
       "    unicode-bidi: embed;\n",
       "    white-space: pre-wrap;\n",
       "    word-wrap: break-word;\n",
       "    word-break: break-all;\n",
       "    font-family: \"Source Code Pro\", \"Menlo\", monospace;;\n",
       "    font-size: 13px;\n",
       "    color: #555;\n",
       "    margin-left: 4px;\n",
       "    line-height: 19px;\n",
       "  }\n",
       "</style>\n",
       "<div class=\"ansiout\"></div>"
      ]
     },
     "metadata": {
      "application/vnd.databricks.v1+output": {
       "addedWidgets": {},
       "arguments": {},
       "data": "<div class=\"ansiout\"></div>",
       "datasetInfos": [],
       "metadata": {},
       "removedWidgets": [],
       "type": "html"
      }
     },
     "output_type": "display_data"
    }
   ],
   "source": [
    "# Fill in the BHI fields using the most probable HGPD provider location information\n",
    "\n",
    "dm = dm.withColumn(\"facility_npi\", when((dm.VENDORNAME == \"BHI\") & (hgpd.provider_location_id_.isNotNull()), hgpd.npi2_).otherwise(col(\"facility_npi\"))) \\\n",
    "       .withColumn(\"facility_city\", when((dm.VENDORNAME == \"BHI\") & (hgpd.provider_location_id_.isNotNull()), hgpd.city_).otherwise(col(\"facility_city\"))) \\\n",
    "       .withColumn(\"facility_state\", when((dm.VENDORNAME == \"BHI\") & (hgpd.provider_location_id_.isNotNull()), hgpd.state_).otherwise(col(\"facility_state\"))) \\\n",
    "       .withColumn(\"facility_suite\", when((dm.VENDORNAME == \"BHI\") & (hgpd.provider_location_id_.isNotNull()), hgpd.addr_line_2_).otherwise(col(\"facility_suite\"))) \\\n",
    "       .withColumn(\"facility_street\", when((dm.VENDORNAME == \"BHI\") & (hgpd.provider_location_id_.isNotNull()), hgpd.addr_line_1_).otherwise(col(\"facility_street\"))) \\\n",
    "       .withColumn(\"facility_zipcode\", when((dm.VENDORNAME == \"BHI\") & (hgpd.provider_location_id_.isNotNull()), hgpd.zip_).otherwise(col(\"facility_zipcode\"))) \\\n",
    "       .withColumn(\"facility_latitude\", when((dm.VENDORNAME == \"BHI\") & (hgpd.provider_location_id_.isNotNull()), hgpd.latitude_).otherwise(col(\"facility_latitude\"))) \\\n",
    "       .withColumn(\"facility_longitude\", when((dm.VENDORNAME == \"BHI\") & (hgpd.provider_location_id_.isNotNull()), hgpd.longitude_).otherwise(col(\"facility_longitude\"))) \\\n",
    "       .withColumn(\"facility_addresskey\", when((dm.VENDORNAME == \"BHI\") & (hgpd.provider_location_id_.isNotNull()), hgpd.kli_location_key_).otherwise(col(\"facility_addresskey\"))) \\\n",
    "       .withColumn(\"facility_name\", when((dm.VENDORNAME == \"BHI\") & (hgpd.provider_location_id_.isNotNull()), hgpd.provider_location_name_).otherwise(col(\"facility_name\"))) \\\n",
    "       .withColumn(\"facility_addresssource\", when(dm.VENDORNAME == \"BHI\", \"BHIFACILITYFIX\").otherwise(col(\"facility_addresssource\"))) \\\n",
    "       .drop(*ccs_codes.columns).drop(*procedure_location.columns).drop(*hgpd.columns)"
   ]
  },
  {
   "cell_type": "code",
   "execution_count": null,
   "metadata": {
    "application/vnd.databricks.v1+cell": {
     "inputWidgets": {},
     "nuid": "c622a8d6-afaf-4eb4-9582-35fe42b68949",
     "showTitle": false,
     "title": ""
    }
   },
   "outputs": [
    {
     "data": {
      "text/html": [
       "<style scoped>\n",
       "  .ansiout {\n",
       "    display: block;\n",
       "    unicode-bidi: embed;\n",
       "    white-space: pre-wrap;\n",
       "    word-wrap: break-word;\n",
       "    word-break: break-all;\n",
       "    font-family: \"Source Code Pro\", \"Menlo\", monospace;;\n",
       "    font-size: 13px;\n",
       "    color: #555;\n",
       "    margin-left: 4px;\n",
       "    line-height: 19px;\n",
       "  }\n",
       "</style>\n",
       "<div class=\"ansiout\"></div>"
      ]
     },
     "metadata": {
      "application/vnd.databricks.v1+output": {
       "addedWidgets": {},
       "arguments": {},
       "data": "<div class=\"ansiout\"></div>",
       "datasetInfos": [],
       "metadata": {},
       "removedWidgets": [],
       "type": "html"
      }
     },
     "output_type": "display_data"
    }
   ],
   "source": [
    "# Make column names uppercase\n",
    "\n",
    "for i in dm.columns:\n",
    "    dm = dm.withColumnRenamed(i, i.upper())"
   ]
  },
  {
   "cell_type": "code",
   "execution_count": null,
   "metadata": {
    "application/vnd.databricks.v1+cell": {
     "inputWidgets": {},
     "nuid": "4705a20d-2ba8-4a81-9fd0-940aff16cdca",
     "showTitle": false,
     "title": ""
    }
   },
   "outputs": [
    {
     "data": {
      "text/html": [
       "<style scoped>\n",
       "  .ansiout {\n",
       "    display: block;\n",
       "    unicode-bidi: embed;\n",
       "    white-space: pre-wrap;\n",
       "    word-wrap: break-word;\n",
       "    word-break: break-all;\n",
       "    font-family: \"Source Code Pro\", \"Menlo\", monospace;;\n",
       "    font-size: 13px;\n",
       "    color: #555;\n",
       "    margin-left: 4px;\n",
       "    line-height: 19px;\n",
       "  }\n",
       "</style>\n",
       "<div class=\"ansiout\"></div>"
      ]
     },
     "metadata": {
      "application/vnd.databricks.v1+output": {
       "addedWidgets": {},
       "arguments": {},
       "data": "<div class=\"ansiout\"></div>",
       "datasetInfos": [],
       "metadata": {},
       "removedWidgets": [],
       "type": "html"
      }
     },
     "output_type": "display_data"
    }
   ],
   "source": [
    "dm.select(claimline_columns).write.mode(\"overwrite\").saveAsTable(claimline_bhi_facility_fix)"
   ]
  },
  {
   "cell_type": "code",
   "execution_count": null,
   "metadata": {
    "application/vnd.databricks.v1+cell": {
     "inputWidgets": {},
     "nuid": "a92dabd5-cd85-4d02-87b7-59eb7b166443",
     "showTitle": false,
     "title": ""
    }
   },
   "outputs": [],
   "source": []
  }
 ],
 "metadata": {
  "application/vnd.databricks.v1+notebook": {
   "dashboards": [],
   "language": "python",
   "notebookMetadata": {
    "pythonIndentUnit": 2
   },
   "notebookName": "BHIMostProbableLocation",
   "notebookOrigID": 4289592353511751,
   "widgets": {}
  },
  "kernelspec": {
   "display_name": "Python 3 (ipykernel)",
   "language": "python",
   "name": "python3"
  },
  "language_info": {
   "codemirror_mode": {
    "name": "ipython",
    "version": 3
   },
   "file_extension": ".py",
   "mimetype": "text/x-python",
   "name": "python",
   "nbconvert_exporter": "python",
   "pygments_lexer": "ipython3",
   "version": "3.9.7"
  }
 },
 "nbformat": 4,
 "nbformat_minor": 4
}
