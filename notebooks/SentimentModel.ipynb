{
 "cells": [
  {
   "cell_type": "markdown",
   "metadata": {},
   "source": [
    "# PES sentiment analysis model, pre-deployment development"
   ]
  },
  {
   "cell_type": "code",
   "execution_count": 1,
   "metadata": {},
   "outputs": [],
   "source": [
    "%config InlineBackend.figure_format = 'retina'"
   ]
  },
  {
   "cell_type": "code",
   "execution_count": 69,
   "metadata": {
    "tags": []
   },
   "outputs": [],
   "source": [
    "from sklearn.feature_extraction.text import TfidfVectorizer\n",
    "from sklearn.model_selection import train_test_split\n",
    "from sklearn.linear_model import LogisticRegression\n",
    "from sklearn.model_selection import GridSearchCV\n",
    "from sklearn.metrics import confusion_matrix\n",
    "from sklearn.pipeline import Pipeline\n",
    "from joblib import dump, load\n",
    "import seaborn as sns\n",
    "\n",
    "from matplotlib.pyplot import *\n",
    "import pandas as pd\n",
    "import numpy as np\n",
    "import gc\n",
    "\n",
    "pd.set_option('display.max_columns', 500)"
   ]
  },
  {
   "cell_type": "markdown",
   "metadata": {},
   "source": [
    "The functions below are used to clean the input review text."
   ]
  },
  {
   "cell_type": "code",
   "execution_count": 27,
   "metadata": {
    "tags": []
   },
   "outputs": [],
   "source": [
    "def process_text(text):\n",
    "    result = text.lower().strip()\n",
    "    result = re.sub(r'\\n', ' ', result)\n",
    "    result = re.sub(r'\\r', ' ', result)\n",
    "    result = re.sub(r'[^\\x00-\\x7F]+', ' ', result)\n",
    "    result = re.sub('[\\W]+', ' ', result)\n",
    "    result = re.sub(r' +', ' ', result).strip()\n",
    "    return result\n",
    "\n",
    "def replace_abbreviations(text):\n",
    "    result = text.lower().strip()\n",
    "    result = re.sub(r'\\bpm\\b', ' ', result)\n",
    "    result = re.sub(r'\\byrs\\b', ' years ', result)\n",
    "    result = re.sub(r'\\bhr\\b', ' hours ', result)\n",
    "    result = re.sub(r'\\bhrs\\b', ' hours ', result)\n",
    "    result = re.sub(r'\\bmin\\b', ' minutes ', result)\n",
    "    result = re.sub(r'\\bmins', ' minutes ', result)\n",
    "    result = re.sub(r'\\bdr\\b', ' doctor ', result)\n",
    "    result = re.sub(r'\\bdoc\\b', ' doctor ', result)\n",
    "    result = re.sub(r'\\bapt\\b', ' appointment ', result)\n",
    "    result = re.sub(r'\\bappt\\b', ' appointment ', result)\n",
    "    result = re.sub(r' +', ' ', result).strip()\n",
    "    return result"
   ]
  },
  {
   "cell_type": "markdown",
   "metadata": {},
   "source": [
    "Load in the data on which the model will be trained."
   ]
  },
  {
   "cell_type": "markdown",
   "metadata": {},
   "source": [
    "### Read in the provider_reviews"
   ]
  },
  {
   "cell_type": "code",
   "execution_count": 40,
   "metadata": {},
   "outputs": [],
   "source": [
    "provider_reviews = pd.read_csv('provider_reviews.csv', encoding='ISO-8859-1')"
   ]
  },
  {
   "cell_type": "code",
   "execution_count": 41,
   "metadata": {},
   "outputs": [],
   "source": [
    "provider_reviews.rename(columns={'review-text-cleaned': 'review_text'}, inplace=True)\n",
    "\n",
    "provider_reviews = provider_reviews[provider_reviews['review_text'] != ''].reset_index(drop=True)\n",
    "\n",
    "provider_reviews['rating'] = provider_reviews['rating'].replace({1: 0, -1: 1})"
   ]
  },
  {
   "cell_type": "markdown",
   "metadata": {},
   "source": [
    "### Read in the rejected_reviews"
   ]
  },
  {
   "cell_type": "code",
   "execution_count": 42,
   "metadata": {},
   "outputs": [],
   "source": [
    "rejected_reviews = pd.read_csv('rejected_reviews.csv', encoding='ISO-8859-1')"
   ]
  },
  {
   "cell_type": "code",
   "execution_count": 43,
   "metadata": {},
   "outputs": [],
   "source": [
    "rejected_reviews = rejected_reviews[(rejected_reviews['RejectionReason'] == 'Violates Site Policy') & (rejected_reviews['SentimentScore'] <= -0.5)]\n",
    "\n",
    "rejected_reviews = rejected_reviews[rejected_reviews['CommentText'] != ''].dropna(subset=['CommentText']).reset_index(drop=True)\n",
    "\n",
    "rejected_reviews.rename(columns={'CommentText': 'review_text'}, inplace=True)"
   ]
  },
  {
   "cell_type": "code",
   "execution_count": 44,
   "metadata": {},
   "outputs": [],
   "source": [
    "rejected_reviews['rating'] = 1"
   ]
  },
  {
   "cell_type": "markdown",
   "metadata": {
    "tags": []
   },
   "source": [
    "### Read in the test data"
   ]
  },
  {
   "cell_type": "code",
   "execution_count": 45,
   "metadata": {},
   "outputs": [],
   "source": [
    "test_dataset = pd.read_csv('hgdata.csv', encoding='ISO-8859-1')"
   ]
  },
  {
   "cell_type": "code",
   "execution_count": 46,
   "metadata": {},
   "outputs": [],
   "source": [
    "test_dataset.rename(columns={'comment_text': 'review_text',\n",
    "                             'AlchemyBinary': 'alchemy_rating',\n",
    "                             'IndicoBinary': 'indico_rating',\n",
    "                             'MturkBinarySent': 'mturk_rating'}, inplace=True)"
   ]
  },
  {
   "cell_type": "markdown",
   "metadata": {},
   "source": [
    "### Combine the provider reviews and rejected reviews for training"
   ]
  },
  {
   "cell_type": "code",
   "execution_count": 48,
   "metadata": {},
   "outputs": [],
   "source": [
    "tmp = provider_reviews[['review_text', 'rating']].append(rejected_reviews[['review_text', 'rating']]).reset_index(drop=True)"
   ]
  },
  {
   "cell_type": "code",
   "execution_count": 49,
   "metadata": {},
   "outputs": [],
   "source": [
    "negative = tmp[tmp['rating'] == 1]\n",
    "\n",
    "positive = tmp[tmp['rating'] == 0].sample(n=negative.shape[0], random_state=0)\n",
    "\n",
    "training_dataset = positive.append(negative).reset_index(drop=True)"
   ]
  },
  {
   "cell_type": "markdown",
   "metadata": {},
   "source": [
    "### Clean the training and test data"
   ]
  },
  {
   "cell_type": "code",
   "execution_count": 53,
   "metadata": {},
   "outputs": [],
   "source": [
    "training_dataset['review_text'] = training_dataset['review_text'].apply(lambda x: process_text(x)).apply(lambda x: replace_abbreviations(x))"
   ]
  },
  {
   "cell_type": "code",
   "execution_count": 54,
   "metadata": {},
   "outputs": [],
   "source": [
    "test_dataset['review_text'] = test_dataset['review_text'].apply(lambda x: process_text(x)).apply(lambda x: replace_abbreviations(x))"
   ]
  },
  {
   "cell_type": "markdown",
   "metadata": {
    "tags": []
   },
   "source": [
    "### Split the data into training and validation sets"
   ]
  },
  {
   "cell_type": "code",
   "execution_count": 55,
   "metadata": {
    "tags": []
   },
   "outputs": [],
   "source": [
    "x_tr, x_va, y_tr, y_va = train_test_split(training_dataset['review_text'], training_dataset['rating'], test_size=0.2, random_state=0)"
   ]
  },
  {
   "cell_type": "markdown",
   "metadata": {},
   "source": [
    "Loop over various model parameters to find the best combination."
   ]
  },
  {
   "cell_type": "code",
   "execution_count": 92,
   "metadata": {
    "tags": []
   },
   "outputs": [],
   "source": [
    "params = {'vec__ngram_range': [(1, 1), (1, 2), (2, 2)],\n",
    "          'vec__stop_words': ['english', None],\n",
    "          'vec__use_idf': [True, False],\n",
    "          'vec__norm': ['l1', 'l2', None],\n",
    "          'vec__sublinear_tf': [True, False],\n",
    "          'vec__max_features': [5000, 10000, 15000, 30000]}\n",
    "\n",
    "pipeline = Pipeline([\n",
    "    ('vec', TfidfVectorizer()),\n",
    "    ('clf', LogisticRegression(solver='liblinear'))\n",
    "])\n",
    "\n",
    "grid = GridSearchCV(pipeline, param_grid=params, scoring='balanced_accuracy', n_jobs=-1, cv=10, verbose=0)\n",
    "\n",
    "grid.fit(x_tr, y_tr);"
   ]
  },
  {
   "cell_type": "code",
   "execution_count": 96,
   "metadata": {},
   "outputs": [
    {
     "name": "stdout",
     "output_type": "stream",
     "text": [
      "{'vec__max_features': 15000, 'vec__ngram_range': (1, 2), 'vec__norm': 'l2', 'vec__stop_words': None, 'vec__sublinear_tf': True, 'vec__use_idf': True} 0.9375199134617043\n"
     ]
    }
   ],
   "source": [
    "print(grid.best_params_, grid.best_score_)"
   ]
  },
  {
   "cell_type": "code",
   "execution_count": 97,
   "metadata": {},
   "outputs": [],
   "source": [
    "model_tmp = grid.best_estimator_"
   ]
  },
  {
   "cell_type": "code",
   "execution_count": 98,
   "metadata": {},
   "outputs": [],
   "source": [
    "params = {'clf__C': np.logspace(-1, 1, 20)}\n",
    "\n",
    "grid = GridSearchCV(model_tmp, param_grid=params, scoring='balanced_accuracy', n_jobs=-1, cv=10, verbose=0)\n",
    "\n",
    "grid.fit(x_tr, y_tr);"
   ]
  },
  {
   "cell_type": "code",
   "execution_count": 99,
   "metadata": {},
   "outputs": [
    {
     "name": "stdout",
     "output_type": "stream",
     "text": [
      "{'clf__C': 4.832930238571752} 0.939920684788208\n"
     ]
    }
   ],
   "source": [
    "print(grid.best_params_, grid.best_score_)"
   ]
  },
  {
   "cell_type": "code",
   "execution_count": 100,
   "metadata": {
    "tags": []
   },
   "outputs": [],
   "source": [
    "model = grid.best_estimator_"
   ]
  },
  {
   "cell_type": "markdown",
   "metadata": {},
   "source": [
    "### Save the model"
   ]
  },
  {
   "cell_type": "code",
   "execution_count": 101,
   "metadata": {},
   "outputs": [
    {
     "data": {
      "text/plain": [
       "['sentiment_model.joblib']"
      ]
     },
     "execution_count": 101,
     "metadata": {},
     "output_type": "execute_result"
    }
   ],
   "source": [
    "dump(model, 'sentiment_model.joblib') "
   ]
  },
  {
   "cell_type": "markdown",
   "metadata": {},
   "source": [
    "### Apply the model to the test data"
   ]
  },
  {
   "cell_type": "code",
   "execution_count": 89,
   "metadata": {},
   "outputs": [],
   "source": [
    "test_dataset['predict'] = model.predict(test_dataset['review_text'])"
   ]
  },
  {
   "cell_type": "code",
   "execution_count": 90,
   "metadata": {},
   "outputs": [
    {
     "data": {
      "image/png": "[encoded data removed]",
      "text/plain": [
       "<Figure size 1152x288 with 6 Axes>"
      ]
     },
     "metadata": {
      "image/png": {
       "height": 277,
       "width": 931
      },
      "needs_background": "light"
     },
     "output_type": "display_data"
    }
   ],
   "source": [
    "cm_alc = confusion_matrix(test_dataset['mturk_rating'], test_dataset['alchemy_rating']).T\n",
    "cm_ind = confusion_matrix(test_dataset['mturk_rating'], test_dataset['indico_rating']).T\n",
    "cm_mod = confusion_matrix(test_dataset['mturk_rating'], test_dataset['predict']).T\n",
    "\n",
    "cm_alc = cm_alc.astype('float')/cm_alc.sum(axis=0)\n",
    "cm_ind = cm_ind.astype('float')/cm_ind.sum(axis=0)\n",
    "cm_mod = cm_mod.astype('float')/cm_mod.sum(axis=0)\n",
    "\n",
    "fig, ax = subplots(nrows=1, ncols=3, figsize=(16,4))\n",
    "\n",
    "classes = ['positive', 'negative']\n",
    "\n",
    "tick_marks = np.arange(len(classes))\n",
    "\n",
    "subplot(1, 3, 1)\n",
    "sns.heatmap(cm_alc, annot=True, cmap='Reds')\n",
    "xlabel('True Label')\n",
    "ylabel('Predicted Label')\n",
    "xticks(tick_marks + 0.5, classes)\n",
    "yticks(tick_marks + 0.5, classes)\n",
    "title('Alchemy')\n",
    "\n",
    "subplot(1, 3, 2)\n",
    "sns.heatmap(cm_ind, annot=True, cmap='Reds')\n",
    "xlabel('True Label')\n",
    "ylabel('Predicted Label')\n",
    "xticks(tick_marks + 0.5, classes)\n",
    "yticks(tick_marks + 0.5, classes)\n",
    "title('Indico')\n",
    "\n",
    "subplot(1, 3, 3)\n",
    "sns.heatmap(cm_mod, annot=True, cmap='Reds')\n",
    "xlabel('True Label')\n",
    "ylabel('Predicted Label')\n",
    "xticks(tick_marks + 0.5, classes)\n",
    "yticks(tick_marks + 0.5, classes)\n",
    "title('Mercury Model')\n",
    "show()"
   ]
  },
  {
   "cell_type": "markdown",
   "metadata": {},
   "source": [
    "The figures above compare the results of the Alchemy, Indico, and new Healthgrades model. The Alchemy model accurately predicts positive-sentiment comments 86% of the time, and misclassifies them 14% of the time. Similarly, it accurately classifies negative comments 96% of the time, and misclassifies them about 4% of the time.\n",
    "\n",
    "The Indico model accurately predicts positive-sentiment comments 97% of the time, and misclassifies them about 3% of the time. Similarly, it accurately classifies negative comments 92% of the time, and misclassifies them about 8% of the time.\n",
    "\n",
    "The new Mercury Healthcare model accurately predicts positive-sentiment comments 94% of the time, and misclassifies them about 6% of the time. Similarly, it accurately classifies negative comments 97% of the time, and misclassifies them 3% of the time."
   ]
  }
 ],
 "metadata": {
  "kernelspec": {
   "display_name": "Python 3 (ipykernel)",
   "language": "python",
   "name": "python3"
  },
  "language_info": {
   "codemirror_mode": {
    "name": "ipython",
    "version": 3
   },
   "file_extension": ".py",
   "mimetype": "text/x-python",
   "name": "python",
   "nbconvert_exporter": "python",
   "pygments_lexer": "ipython3",
   "version": "3.9.7"
  }
 },
 "nbformat": 4,
 "nbformat_minor": 4
}
